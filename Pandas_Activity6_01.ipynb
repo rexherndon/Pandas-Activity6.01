{
  "nbformat": 4,
  "nbformat_minor": 0,
  "metadata": {
    "colab": {
      "provenance": []
    },
    "kernelspec": {
      "name": "python3",
      "display_name": "Python 3"
    },
    "language_info": {
      "name": "python"
    }
  },
  "cells": [
    {
      "cell_type": "markdown",
      "source": [
        "# **Activity 6.01 – Series data selection**"
      ],
      "metadata": {
        "id": "i9xQSfduBIQY"
      }
    },
    {
      "cell_type": "markdown",
      "source": [
        "1. For this activity, all you will need is the pandas library. Load it into the first cell of\n",
        "the notebook.\n",
        "2. Read in a pandas Series from the US_Census_SUB-IP-EST2019-\n",
        "ANNRNK_top_20_2010.csv file. This data is from the US Census Bureau\n",
        "(source: https://www2.census.gov/programs-surveys/popest/\n",
        "datasets/2010/2010-eval-estimates/). The city names are in the first\n",
        "column, so read them so that they are used as the indexes. List the resulting Series.\n",
        "3. Calculate the total population of the three largest cities in the 2010 Series (New\n",
        "York, Los Angeles, and Chicago) and save the result in a variable.\n",
        "4. Read in the corresponding data for 2019 from the US_Census_SUB-IP-\n",
        "EST2019-ANNRNK_top_20_2019.csv file, again using the first column as the index and reading the data into a Series. This data is from the US Census Bureau (source: https://www2.census.gov/programs-surveys/popest/\n",
        "tables/2010-2019/cities/totals/).\n",
        "5. Calculate the total population for the same three cities in the 2019 Series and save\n",
        "the result in a variable.\n",
        "6. Using the saved values, calculate the percent change from 2010 to 2019 for the three\n",
        "cities. Also, calculate the percent change for all the cities. Print out a comparison of\n",
        "the changes for the three cities versus all cities."
      ],
      "metadata": {
        "id": "nByeot66BkUY"
      }
    },
    {
      "cell_type": "code",
      "execution_count": null,
      "metadata": {
        "id": "bp4k_REnBEHy"
      },
      "outputs": [],
      "source": [
        "import pandas as pd"
      ]
    },
    {
      "cell_type": "code",
      "source": [
        "!wget https://raw.githubusercontent.com/PacktWorkshops/The-Pandas-Workshop/master/Chapter06/Datasets/US_Census_SUB-IP-EST2019-ANNRNK_top_20_2010.csv"
      ],
      "metadata": {
        "colab": {
          "base_uri": "https://localhost:8080/"
        },
        "id": "edmWOAw1Bafw",
        "outputId": "b9f13693-dd7a-4585-8cd0-68b3557d6a34"
      },
      "execution_count": null,
      "outputs": [
        {
          "output_type": "stream",
          "name": "stdout",
          "text": [
            "--2023-06-15 12:26:51--  https://raw.githubusercontent.com/PacktWorkshops/The-Pandas-Workshop/master/Chapter06/Datasets/US_Census_SUB-IP-EST2019-ANNRNK_top_20_2010.csv\n",
            "Resolving raw.githubusercontent.com (raw.githubusercontent.com)... 185.199.109.133, 185.199.111.133, 185.199.110.133, ...\n",
            "Connecting to raw.githubusercontent.com (raw.githubusercontent.com)|185.199.109.133|:443... connected.\n",
            "HTTP request sent, awaiting response... 200 OK\n",
            "Length: 368 [text/plain]\n",
            "Saving to: ‘US_Census_SUB-IP-EST2019-ANNRNK_top_20_2010.csv’\n",
            "\n",
            "US_Census_SUB-IP-ES 100%[===================>]     368  --.-KB/s    in 0s      \n",
            "\n",
            "2023-06-15 12:26:52 (15.4 MB/s) - ‘US_Census_SUB-IP-EST2019-ANNRNK_top_20_2010.csv’ saved [368/368]\n",
            "\n"
          ]
        }
      ]
    },
    {
      "cell_type": "code",
      "source": [
        "!wget https://raw.githubusercontent.com/PacktWorkshops/The-Pandas-Workshop/master/Chapter06/Datasets/US_Census_SUB-IP-EST2019-ANNRNK_top_20_2019.csv"
      ],
      "metadata": {
        "colab": {
          "base_uri": "https://localhost:8080/"
        },
        "id": "W_R8IsA4BdeH",
        "outputId": "30b7d76e-6bdb-4aac-a6d5-ca2d7bc3a97d"
      },
      "execution_count": null,
      "outputs": [
        {
          "output_type": "stream",
          "name": "stdout",
          "text": [
            "--2023-06-15 12:27:10--  https://raw.githubusercontent.com/PacktWorkshops/The-Pandas-Workshop/master/Chapter06/Datasets/US_Census_SUB-IP-EST2019-ANNRNK_top_20_2019.csv\n",
            "Resolving raw.githubusercontent.com (raw.githubusercontent.com)... 185.199.108.133, 185.199.109.133, 185.199.110.133, ...\n",
            "Connecting to raw.githubusercontent.com (raw.githubusercontent.com)|185.199.108.133|:443... connected.\n",
            "HTTP request sent, awaiting response... 200 OK\n",
            "Length: 369 [text/plain]\n",
            "Saving to: ‘US_Census_SUB-IP-EST2019-ANNRNK_top_20_2019.csv’\n",
            "\n",
            "US_Census_SUB-IP-ES 100%[===================>]     369  --.-KB/s    in 0s      \n",
            "\n",
            "2023-06-15 12:27:10 (26.2 MB/s) - ‘US_Census_SUB-IP-EST2019-ANNRNK_top_20_2019.csv’ saved [369/369]\n",
            "\n"
          ]
        }
      ]
    },
    {
      "cell_type": "code",
      "source": [
        "data2010 = pd.read_csv('US_Census_SUB-IP-EST2019-ANNRNK_top_20_2010.csv',\n",
        "                       index_col=[0],squeeze=True)"
      ],
      "metadata": {
        "colab": {
          "base_uri": "https://localhost:8080/"
        },
        "id": "PYrDhMarBiFD",
        "outputId": "6f468caf-b92a-4397-c9b0-54f931fbcd41"
      },
      "execution_count": null,
      "outputs": [
        {
          "output_type": "stream",
          "name": "stderr",
          "text": [
            "<ipython-input-11-3e136eaa9a1f>:1: FutureWarning: The squeeze argument has been deprecated and will be removed in a future version. Append .squeeze(\"columns\") to the call to squeeze.\n",
            "\n",
            "\n",
            "  data2010 = pd.read_csv('US_Census_SUB-IP-EST2019-ANNRNK_top_20_2010.csv',\n"
          ]
        }
      ]
    },
    {
      "cell_type": "code",
      "source": [
        "data2010"
      ],
      "metadata": {
        "colab": {
          "base_uri": "https://localhost:8080/"
        },
        "id": "W8r4I4TbCEaL",
        "outputId": "6e2de871-90cb-4362-b6e0-622d51ffa906"
      },
      "execution_count": null,
      "outputs": [
        {
          "output_type": "execute_result",
          "data": {
            "text/plain": [
              "City\n",
              "New York                8190209\n",
              "Los Angeles             3795512\n",
              "Chicago                 2697477\n",
              "Houston                 2100280\n",
              "Phoenix                 1449038\n",
              "Philadelphia            1528283\n",
              "San Antonio             1332299\n",
              "San Diego               1305906\n",
              "Dallas                  1200350\n",
              "San Jose                 954940\n",
              "Austin                   806164\n",
              "Jacksonville             823114\n",
              "Fort Worth               748441\n",
              "Columbus                 790943\n",
              "Charlotte                738444\n",
              "San Francisco            805505\n",
              "Indianapolis             821579\n",
              "Seattle                  610630\n",
              "Denver                   603359\n",
              "District of Columbia     605226\n",
              "Name: 2010, dtype: int64"
            ]
          },
          "metadata": {},
          "execution_count": 12
        }
      ]
    },
    {
      "cell_type": "markdown",
      "source": [
        "3. Calculate the total population of the three largest cities in the 2010 Series (New York, Los Angeles, and Chicago) and save the result in a variable."
      ],
      "metadata": {
        "id": "gIPndnlWCadl"
      }
    },
    {
      "cell_type": "code",
      "source": [
        "top3_2010 = data2010['New York'] + data2010['Los Angeles'] + data2010['Chicago']"
      ],
      "metadata": {
        "id": "qV2D1aY4CLzH"
      },
      "execution_count": null,
      "outputs": []
    },
    {
      "cell_type": "code",
      "source": [
        "# top3_2010_2 = sum(data2010[['New York', 'Los Angeles', 'Chicago']])\n",
        "# top3_2010_2"
      ],
      "metadata": {
        "colab": {
          "base_uri": "https://localhost:8080/"
        },
        "id": "NcLp0LlkFfZI",
        "outputId": "c4c65f4f-53e4-43df-9782-324a5ba0d1ad"
      },
      "execution_count": null,
      "outputs": [
        {
          "output_type": "execute_result",
          "data": {
            "text/plain": [
              "14683198"
            ]
          },
          "metadata": {},
          "execution_count": 35
        }
      ]
    },
    {
      "cell_type": "code",
      "source": [
        "top3_2010"
      ],
      "metadata": {
        "colab": {
          "base_uri": "https://localhost:8080/"
        },
        "id": "PPxN_Kr4CvKS",
        "outputId": "1cf18ea9-8ee8-4616-b511-c087539c2858"
      },
      "execution_count": null,
      "outputs": [
        {
          "output_type": "execute_result",
          "data": {
            "text/plain": [
              "14683198"
            ]
          },
          "metadata": {},
          "execution_count": 16
        }
      ]
    },
    {
      "cell_type": "markdown",
      "source": [
        "4. Read in the corresponding data for 2019 from the US_Census_SUB-IP-\n",
        "EST2019-ANNRNK_top_20_2019.csv file, again using the first column as the index and reading the data into a Series."
      ],
      "metadata": {
        "id": "EfTtEAbKGypB"
      }
    },
    {
      "cell_type": "code",
      "source": [
        "data2019 = pd.read_csv('US_Census_SUB-IP-EST2019-ANNRNK_top_20_2019.csv',\n",
        "                       index_col=[0],squeeze=True)"
      ],
      "metadata": {
        "colab": {
          "base_uri": "https://localhost:8080/"
        },
        "id": "v389kBu7Cwdj",
        "outputId": "aa85f808-baab-437c-f943-0b64a393d001"
      },
      "execution_count": null,
      "outputs": [
        {
          "output_type": "stream",
          "name": "stderr",
          "text": [
            "<ipython-input-17-9d878eedf9eb>:1: FutureWarning: The squeeze argument has been deprecated and will be removed in a future version. Append .squeeze(\"columns\") to the call to squeeze.\n",
            "\n",
            "\n",
            "  data2019 = pd.read_csv('US_Census_SUB-IP-EST2019-ANNRNK_top_20_2019.csv',\n"
          ]
        }
      ]
    },
    {
      "cell_type": "code",
      "source": [
        "data2019"
      ],
      "metadata": {
        "colab": {
          "base_uri": "https://localhost:8080/"
        },
        "id": "LwlB6CDrDMUf",
        "outputId": "deb186e4-a28b-4b4c-e298-fa4799aa539e"
      },
      "execution_count": null,
      "outputs": [
        {
          "output_type": "execute_result",
          "data": {
            "text/plain": [
              "City\n",
              "New York                8336817\n",
              "Los Angeles             3979576\n",
              "Chicago                 2693976\n",
              "Houston                 2320268\n",
              "Phoenix                 1680992\n",
              "Philadelphia            1584064\n",
              "San Antonio             1547253\n",
              "San Diego               1423851\n",
              "Dallas                  1343573\n",
              "San Jose                1021795\n",
              "Austin                   978908\n",
              "Jacksonville             911507\n",
              "Fort Worth               909585\n",
              "Columbus                 898553\n",
              "Charlotte                885708\n",
              "San Francisco            881549\n",
              "Indianapolis             876384\n",
              "Seattle                  753675\n",
              "Denver                   727211\n",
              "District of Columbia     705749\n",
              "Name: 2019, dtype: int64"
            ]
          },
          "metadata": {},
          "execution_count": 18
        }
      ]
    },
    {
      "cell_type": "markdown",
      "source": [
        "5. Calculate the total population for the same three cities in the 2019 Series and save\n",
        "the result in a variable."
      ],
      "metadata": {
        "id": "wVDvefcXDfdX"
      }
    },
    {
      "cell_type": "code",
      "source": [
        "top3_2019 = data2019['New York'] + data2019['Los Angeles'] + data2019['Chicago']\n",
        "top3_2019"
      ],
      "metadata": {
        "colab": {
          "base_uri": "https://localhost:8080/"
        },
        "id": "OLC3XI_xDIIF",
        "outputId": "a18dfefe-ba08-47c4-b44e-4ba94e948bd1"
      },
      "execution_count": null,
      "outputs": [
        {
          "output_type": "execute_result",
          "data": {
            "text/plain": [
              "15010369"
            ]
          },
          "metadata": {},
          "execution_count": 21
        }
      ]
    },
    {
      "cell_type": "markdown",
      "source": [
        "6. Using the saved values, calculate the percent change from 2010 to 2019 for the three\n",
        "cities. Also, calculate the percent change for all the cities. Print out a comparison of\n",
        "the changes for the three cities versus all cities."
      ],
      "metadata": {
        "id": "IR-6AGPQGqXn"
      }
    },
    {
      "cell_type": "code",
      "source": [
        "top3_change = ((top3_2019 - top3_2010) * 100) / top3_2010\n",
        "top3_change"
      ],
      "metadata": {
        "colab": {
          "base_uri": "https://localhost:8080/"
        },
        "id": "trEuANlNDTvS",
        "outputId": "06437699-9caa-48ed-bc23-ee74e31a41cf"
      },
      "execution_count": null,
      "outputs": [
        {
          "output_type": "execute_result",
          "data": {
            "text/plain": [
              "2.2281998785278248"
            ]
          },
          "metadata": {},
          "execution_count": 31
        }
      ]
    },
    {
      "cell_type": "code",
      "source": [
        "total_change = (sum(data2019 - data2010) * 100) / sum(data2010)\n",
        "total_change"
      ],
      "metadata": {
        "colab": {
          "base_uri": "https://localhost:8080/"
        },
        "id": "bWD19Ss7DvSk",
        "outputId": "5f942228-c3a6-4152-8375-70594f493037"
      },
      "execution_count": null,
      "outputs": [
        {
          "output_type": "execute_result",
          "data": {
            "text/plain": [
              "8.00212826377734"
            ]
          },
          "metadata": {},
          "execution_count": 37
        }
      ]
    },
    {
      "cell_type": "code",
      "source": [
        "print('top 3 changed: ' + str(round(top3_change, 1)) + '%')\n",
        "print('vs. all changed: ' + str(round(total_change, 1)) + '%')"
      ],
      "metadata": {
        "colab": {
          "base_uri": "https://localhost:8080/"
        },
        "id": "Y3g-ANcREsKH",
        "outputId": "4db424bf-50a1-459d-f74b-e0a9553f9667"
      },
      "execution_count": null,
      "outputs": [
        {
          "output_type": "stream",
          "name": "stdout",
          "text": [
            "top 3 changed: 2.2%\n",
            "vs. all changed: 8.0%\n"
          ]
        }
      ]
    },
    {
      "cell_type": "code",
      "source": [],
      "metadata": {
        "id": "old4QEH3GIgc"
      },
      "execution_count": null,
      "outputs": []
    }
  ]
}